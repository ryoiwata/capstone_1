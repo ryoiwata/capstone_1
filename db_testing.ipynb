{
 "cells": [
  {
   "cell_type": "code",
   "execution_count": 2,
   "metadata": {},
   "outputs": [],
   "source": [
    "import pymongo\n",
    "from pymongo import MongoClient\n",
    "import pandas as pd"
   ]
  },
  {
   "cell_type": "code",
   "execution_count": 3,
   "metadata": {},
   "outputs": [],
   "source": [
    "client = MongoClient()\n",
    "db = client.capstone_1_db\n",
    "collection = db.good_reads_best_books\n",
    "data = pd.DataFrame(list(collection.find()))[:]"
   ]
  },
  {
   "cell_type": "code",
   "execution_count": 6,
   "metadata": {},
   "outputs": [
    {
     "data": {
      "text/html": [
       "<div>\n",
       "<style scoped>\n",
       "    .dataframe tbody tr th:only-of-type {\n",
       "        vertical-align: middle;\n",
       "    }\n",
       "\n",
       "    .dataframe tbody tr th {\n",
       "        vertical-align: top;\n",
       "    }\n",
       "\n",
       "    .dataframe thead th {\n",
       "        text-align: right;\n",
       "    }\n",
       "</style>\n",
       "<table border=\"1\" class=\"dataframe\">\n",
       "  <thead>\n",
       "    <tr style=\"text-align: right;\">\n",
       "      <th></th>\n",
       "      <th>_id</th>\n",
       "      <th>author</th>\n",
       "      <th>average_rating</th>\n",
       "      <th>birth_country</th>\n",
       "      <th>book_year</th>\n",
       "      <th>genre</th>\n",
       "      <th>number_of_ratings</th>\n",
       "      <th>title</th>\n",
       "      <th>votes</th>\n",
       "    </tr>\n",
       "  </thead>\n",
       "  <tbody>\n",
       "    <tr>\n",
       "      <th>994</th>\n",
       "      <td>5c66f8d213218a3d0d6d6a1d</td>\n",
       "      <td>Richard Russo</td>\n",
       "      <td>3.92</td>\n",
       "      <td>United States</td>\n",
       "      <td>2001</td>\n",
       "      <td>Fiction</td>\n",
       "      <td>100002</td>\n",
       "      <td>Empire Falls</td>\n",
       "      <td>80</td>\n",
       "    </tr>\n",
       "    <tr>\n",
       "      <th>995</th>\n",
       "      <td>5c66f8d313218a3d0d6d6a1e</td>\n",
       "      <td>Shirley Jackson</td>\n",
       "      <td>4.02</td>\n",
       "      <td>United States</td>\n",
       "      <td>1962</td>\n",
       "      <td>Horror</td>\n",
       "      <td>78882</td>\n",
       "      <td>We Have Always Lived in the Castle</td>\n",
       "      <td>70</td>\n",
       "    </tr>\n",
       "    <tr>\n",
       "      <th>996</th>\n",
       "      <td>5c66f8d413218a3d0d6d6a1f</td>\n",
       "      <td>Murasaki Shikibu</td>\n",
       "      <td>3.71</td>\n",
       "      <td>Japan</td>\n",
       "      <td>1008</td>\n",
       "      <td>Classics</td>\n",
       "      <td>8930</td>\n",
       "      <td>The Tale of Genji</td>\n",
       "      <td>75</td>\n",
       "    </tr>\n",
       "    <tr>\n",
       "      <th>997</th>\n",
       "      <td>5c66f8d513218a3d0d6d6a20</td>\n",
       "      <td>Abbi Glines</td>\n",
       "      <td>4.20</td>\n",
       "      <td>Alabama</td>\n",
       "      <td>2012</td>\n",
       "      <td>Romance</td>\n",
       "      <td>151079</td>\n",
       "      <td>Fallen Too Far</td>\n",
       "      <td>65</td>\n",
       "    </tr>\n",
       "    <tr>\n",
       "      <th>998</th>\n",
       "      <td>5c66f8d713218a3d0d6d6a21</td>\n",
       "      <td>C.S. Lewis</td>\n",
       "      <td>4.19</td>\n",
       "      <td>Ireland</td>\n",
       "      <td>1956</td>\n",
       "      <td>Fiction</td>\n",
       "      <td>45052</td>\n",
       "      <td>Till We Have Faces</td>\n",
       "      <td>67</td>\n",
       "    </tr>\n",
       "  </tbody>\n",
       "</table>\n",
       "</div>"
      ],
      "text/plain": [
       "                          _id            author  average_rating  \\\n",
       "994  5c66f8d213218a3d0d6d6a1d     Richard Russo            3.92   \n",
       "995  5c66f8d313218a3d0d6d6a1e   Shirley Jackson            4.02   \n",
       "996  5c66f8d413218a3d0d6d6a1f  Murasaki Shikibu            3.71   \n",
       "997  5c66f8d513218a3d0d6d6a20       Abbi Glines            4.20   \n",
       "998  5c66f8d713218a3d0d6d6a21        C.S. Lewis            4.19   \n",
       "\n",
       "     birth_country  book_year     genre  number_of_ratings  \\\n",
       "994  United States       2001   Fiction             100002   \n",
       "995  United States       1962    Horror              78882   \n",
       "996          Japan       1008  Classics               8930   \n",
       "997        Alabama       2012   Romance             151079   \n",
       "998        Ireland       1956   Fiction              45052   \n",
       "\n",
       "                                  title  votes  \n",
       "994                        Empire Falls     80  \n",
       "995  We Have Always Lived in the Castle     70  \n",
       "996                   The Tale of Genji     75  \n",
       "997                      Fallen Too Far     65  \n",
       "998                  Till We Have Faces     67  "
      ]
     },
     "execution_count": 6,
     "metadata": {},
     "output_type": "execute_result"
    }
   ],
   "source": [
    "data.tail()"
   ]
  },
  {
   "cell_type": "code",
   "execution_count": 10,
   "metadata": {},
   "outputs": [
    {
     "name": "stdout",
     "output_type": "stream",
     "text": [
      "1\n",
      "2\n",
      "3\n",
      "4\n",
      "5\n",
      "6\n",
      "7\n",
      "8\n",
      "9\n",
      "10\n"
     ]
    }
   ],
   "source": [
    "for num in range(1,11):\n",
    "    print(num)"
   ]
  },
  {
   "cell_type": "code",
   "execution_count": null,
   "metadata": {},
   "outputs": [],
   "source": []
  }
 ],
 "metadata": {
  "kernelspec": {
   "display_name": "Python 3",
   "language": "python",
   "name": "python3"
  },
  "language_info": {
   "codemirror_mode": {
    "name": "ipython",
    "version": 3
   },
   "file_extension": ".py",
   "mimetype": "text/x-python",
   "name": "python",
   "nbconvert_exporter": "python",
   "pygments_lexer": "ipython3",
   "version": "3.7.1"
  }
 },
 "nbformat": 4,
 "nbformat_minor": 2
}
