{
 "cells": [
  {
   "cell_type": "markdown",
   "metadata": {},
   "source": [
    "# Good Reads Capstone "
   ]
  },
  {
   "cell_type": "markdown",
   "metadata": {},
   "source": []
  },
  {
   "cell_type": "markdown",
   "metadata": {},
   "source": [
    "Link: https://www.goodreads.com/shelf/show/currently-reading?page=1"
   ]
  },
  {
   "cell_type": "markdown",
   "metadata": {},
   "source": [
    "Why Good Reads?"
   ]
  },
  {
   "cell_type": "code",
   "execution_count": 24,
   "metadata": {},
   "outputs": [],
   "source": [
    "import requests\n",
    "import re\n",
    "from bs4 import BeautifulSoup\n",
    "from contextlib import closing\n",
    "import json\n",
    "import time\n",
    "import matplotlib.pyplot as plt"
   ]
  },
  {
   "cell_type": "code",
   "execution_count": 2,
   "metadata": {},
   "outputs": [
    {
     "ename": "NameError",
     "evalue": "name 'obj' is not defined",
     "output_type": "error",
     "traceback": [
      "\u001b[0;31m---------------------------------------------------------------------------\u001b[0m",
      "\u001b[0;31mNameError\u001b[0m                                 Traceback (most recent call last)",
      "\u001b[0;32m<ipython-input-2-4c8033603e9b>\u001b[0m in \u001b[0;36m<module>\u001b[0;34m\u001b[0m\n\u001b[0;32m----> 1\u001b[0;31m \u001b[0mbook_obj\u001b[0m \u001b[0;34m=\u001b[0m \u001b[0mobj\u001b[0m\u001b[0;34m.\u001b[0m\u001b[0mfind\u001b[0m\u001b[0;34m(\u001b[0m\u001b[0;34m'a'\u001b[0m\u001b[0;34m,\u001b[0m\u001b[0mclass_\u001b[0m\u001b[0;34m=\u001b[0m\u001b[0;34m'bookTitle'\u001b[0m\u001b[0;34m)\u001b[0m\u001b[0;34m\u001b[0m\u001b[0;34m\u001b[0m\u001b[0m\n\u001b[0m\u001b[1;32m      2\u001b[0m \u001b[0mbook_title\u001b[0m \u001b[0;34m=\u001b[0m \u001b[0mobj\u001b[0m\u001b[0;34m.\u001b[0m\u001b[0mfind\u001b[0m\u001b[0;34m(\u001b[0m\u001b[0;34m'a'\u001b[0m\u001b[0;34m,\u001b[0m\u001b[0mclass_\u001b[0m\u001b[0;34m=\u001b[0m\u001b[0;34m'bookTitle'\u001b[0m\u001b[0;34m)\u001b[0m\u001b[0;34m.\u001b[0m\u001b[0mtext\u001b[0m\u001b[0;34m\u001b[0m\u001b[0;34m\u001b[0m\u001b[0m\n\u001b[1;32m      3\u001b[0m \u001b[0mdata_title\u001b[0m \u001b[0;34m=\u001b[0m \u001b[0mstr\u001b[0m\u001b[0;34m(\u001b[0m\u001b[0mbook_title\u001b[0m\u001b[0;34m)\u001b[0m\u001b[0;34m.\u001b[0m\u001b[0msplit\u001b[0m\u001b[0;34m(\u001b[0m\u001b[0;34m\"(\"\u001b[0m\u001b[0;34m)\u001b[0m\u001b[0;34m[\u001b[0m\u001b[0;36m0\u001b[0m\u001b[0;34m]\u001b[0m\u001b[0;34m.\u001b[0m\u001b[0mstrip\u001b[0m\u001b[0;34m(\u001b[0m\u001b[0;34m)\u001b[0m\u001b[0;34m\u001b[0m\u001b[0;34m\u001b[0m\u001b[0m\n\u001b[1;32m      4\u001b[0m \u001b[0mlink_book\u001b[0m \u001b[0;34m=\u001b[0m \u001b[0;34m\"https://www.goodreads.com\"\u001b[0m \u001b[0;34m+\u001b[0m \u001b[0mbook_obj\u001b[0m\u001b[0;34m[\u001b[0m\u001b[0;34m\"href\"\u001b[0m\u001b[0;34m]\u001b[0m\u001b[0;34m\u001b[0m\u001b[0;34m\u001b[0m\u001b[0m\n\u001b[1;32m      5\u001b[0m \u001b[0;31m# print(link_book)\u001b[0m\u001b[0;34m\u001b[0m\u001b[0;34m\u001b[0m\u001b[0;34m\u001b[0m\u001b[0m\n",
      "\u001b[0;31mNameError\u001b[0m: name 'obj' is not defined"
     ]
    }
   ],
   "source": [
    "book_obj = obj.find('a',class_='bookTitle')\n",
    "book_title = obj.find('a',class_='bookTitle').text\n",
    "data_title = str(book_title).split(\"(\")[0].strip()\n",
    "link_book = \"https://www.goodreads.com\" + book_obj[\"href\"]\n",
    "# print(link_book)\n",
    "# print(data_title)\n",
    "book_read_times = obj.find('a',class_='smallText')\n",
    "data_book_currently_reading = int(book_read_times.text.split()[1])\n",
    "# print(data_book_currently_reading)\n",
    "\n",
    "book_year_ratings = obj.find('span',class_='greyText smallText')\n",
    "book_year_ratings_list = book_year_ratings.text.strip().split(\"\\n\")\n",
    "str_book_ratings = book_year_ratings_list[1].strip().split()[0]\n",
    "data_book_ratings = int(\"\".join(str_book_ratings.split(\",\")))\n",
    "# print(data_book_ratings)\n",
    "data_book_year = book_year_ratings_list[2].strip().split()[1]\n",
    "# print(data_book_year)\n",
    "\n",
    "author_names = obj.find('a',class_='authorName')\n",
    "data_author = author_names.text\n",
    "# print(data_author)\n",
    "\n",
    "link_author = author_names[\"href\"]\n",
    "author_sub_page = requests.get(link_author)\n",
    "# print(link_author)\n",
    "author_sub_soup = BeautifulSoup(author_sub_page.text, 'html.parser')\n",
    "author_birth_place = \"\"\n",
    "for char in author_sub_soup.find(\"div\", class_ = \"dataTitle\").next_siblings:\n",
    "    if char.name == \"div\":\n",
    "        break\n",
    "    else:\n",
    "        author_birth_place += str(char)\n",
    "# print(author_birth_place)\n",
    "birth_country_stripped = author_birth_place.strip().split(\",\")[-1]\n",
    "birth_country_stripped_1 = birth_country_stripped.strip()\n",
    "data_birth_country = birth_country_stripped_1.split(\"\\n\")[0].strip()\n",
    "if data_birth_country[0:3] == \"The\":\n",
    "    data_birth_country = data_birth_country[4:].strip()\n",
    "elif data_birth_country[0:6] == \"in The\":\n",
    "    data_birth_country = data_birth_country[7:].strip()\n",
    "elif data_birth_country[0:2] == \"in\":\n",
    "    data_birth_country = data_birth_country[3:].strip()\n",
    "elif data_birth_country == \"\":\n",
    "    data_birth_country = \"N/A\"\n",
    "# print(data_birth_country)\n",
    "\n",
    "\n",
    "\n",
    "print(data_title)\n",
    "print(type(data_title))\n",
    "print(data_author)\n",
    "print(type(data_author))\n",
    "print(data_language)\n",
    "print(type(data_language))\n",
    "print(data_birth_country)\n",
    "print(type(data_birth_country))\n",
    "print(data_book_currently_reading)\n",
    "print(type(data_book_currently_reading))\n",
    "print(data_book_ratings)\n",
    "print(type(data_book_ratings))\n"
   ]
  },
  {
   "cell_type": "markdown",
   "metadata": {},
   "source": [
    "# Why Mongos?"
   ]
  },
  {
   "cell_type": "code",
   "execution_count": 3,
   "metadata": {},
   "outputs": [],
   "source": [
    "import pymongo\n",
    "import pandas as pd\n",
    "from pymongo import MongoClient\n",
    "client = MongoClient()\n",
    "db = client.capstone_1_db\n",
    "collection = db.good_reads_collections\n",
    "data = pd.DataFrame(list(collection.find()))"
   ]
  },
  {
   "cell_type": "code",
   "execution_count": 6,
   "metadata": {
    "scrolled": true
   },
   "outputs": [
    {
     "data": {
      "text/html": [
       "<div>\n",
       "<style scoped>\n",
       "    .dataframe tbody tr th:only-of-type {\n",
       "        vertical-align: middle;\n",
       "    }\n",
       "\n",
       "    .dataframe tbody tr th {\n",
       "        vertical-align: top;\n",
       "    }\n",
       "\n",
       "    .dataframe thead th {\n",
       "        text-align: right;\n",
       "    }\n",
       "</style>\n",
       "<table border=\"1\" class=\"dataframe\">\n",
       "  <thead>\n",
       "    <tr style=\"text-align: right;\">\n",
       "      <th></th>\n",
       "      <th>_id</th>\n",
       "      <th>author</th>\n",
       "      <th>birth_country</th>\n",
       "      <th>book_year</th>\n",
       "      <th>current_readers</th>\n",
       "      <th>language</th>\n",
       "      <th>ratings_number</th>\n",
       "      <th>title</th>\n",
       "    </tr>\n",
       "  </thead>\n",
       "  <tbody>\n",
       "    <tr>\n",
       "      <th>95</th>\n",
       "      <td>5c65a2b513218a3005218691</td>\n",
       "      <td>George R.R. Martin</td>\n",
       "      <td>United States</td>\n",
       "      <td>1998.0</td>\n",
       "      <td>33527</td>\n",
       "      <td>English</td>\n",
       "      <td>686706</td>\n",
       "      <td>A Clash of Kings</td>\n",
       "    </tr>\n",
       "    <tr>\n",
       "      <th>96</th>\n",
       "      <td>5c65a2b813218a3005218692</td>\n",
       "      <td>Teresa Driscoll</td>\n",
       "      <td>N/A</td>\n",
       "      <td>2017.0</td>\n",
       "      <td>32000</td>\n",
       "      <td>N/A</td>\n",
       "      <td>73665</td>\n",
       "      <td>I Am Watching You</td>\n",
       "    </tr>\n",
       "    <tr>\n",
       "      <th>97</th>\n",
       "      <td>5c65a2b913218a3005218693</td>\n",
       "      <td>Leo Tolstoy</td>\n",
       "      <td>Russian Empire</td>\n",
       "      <td>1867.0</td>\n",
       "      <td>31724</td>\n",
       "      <td>English</td>\n",
       "      <td>230764</td>\n",
       "      <td>War and Peace</td>\n",
       "    </tr>\n",
       "    <tr>\n",
       "      <th>98</th>\n",
       "      <td>5c65a2ba13218a3005218694</td>\n",
       "      <td>J.K. Rowling</td>\n",
       "      <td>United Kingdom</td>\n",
       "      <td>1999.0</td>\n",
       "      <td>31298</td>\n",
       "      <td>English</td>\n",
       "      <td>2287071</td>\n",
       "      <td>Harry Potter and the Prisoner of Azkaban</td>\n",
       "    </tr>\n",
       "    <tr>\n",
       "      <th>99</th>\n",
       "      <td>5c65a2bb13218a3005218695</td>\n",
       "      <td>F. Scott Fitzgerald</td>\n",
       "      <td>United States</td>\n",
       "      <td>1925.0</td>\n",
       "      <td>31255</td>\n",
       "      <td>English</td>\n",
       "      <td>3215228</td>\n",
       "      <td>The Great Gatsby</td>\n",
       "    </tr>\n",
       "  </tbody>\n",
       "</table>\n",
       "</div>"
      ],
      "text/plain": [
       "                         _id               author   birth_country  book_year  \\\n",
       "95  5c65a2b513218a3005218691   George R.R. Martin   United States     1998.0   \n",
       "96  5c65a2b813218a3005218692      Teresa Driscoll             N/A     2017.0   \n",
       "97  5c65a2b913218a3005218693          Leo Tolstoy  Russian Empire     1867.0   \n",
       "98  5c65a2ba13218a3005218694         J.K. Rowling  United Kingdom     1999.0   \n",
       "99  5c65a2bb13218a3005218695  F. Scott Fitzgerald   United States     1925.0   \n",
       "\n",
       "    current_readers language  ratings_number  \\\n",
       "95            33527  English          686706   \n",
       "96            32000      N/A           73665   \n",
       "97            31724  English          230764   \n",
       "98            31298  English         2287071   \n",
       "99            31255  English         3215228   \n",
       "\n",
       "                                       title  \n",
       "95                          A Clash of Kings  \n",
       "96                         I Am Watching You  \n",
       "97                             War and Peace  \n",
       "98  Harry Potter and the Prisoner of Azkaban  \n",
       "99                          The Great Gatsby  "
      ]
     },
     "execution_count": 6,
     "metadata": {},
     "output_type": "execute_result"
    }
   ],
   "source": [
    "data.tail()"
   ]
  },
  {
   "cell_type": "code",
   "execution_count": 12,
   "metadata": {},
   "outputs": [],
   "source": [
    "new_data = data.iloc[50:]"
   ]
  },
  {
   "cell_type": "code",
   "execution_count": 14,
   "metadata": {},
   "outputs": [
    {
     "data": {
      "text/html": [
       "<div>\n",
       "<style scoped>\n",
       "    .dataframe tbody tr th:only-of-type {\n",
       "        vertical-align: middle;\n",
       "    }\n",
       "\n",
       "    .dataframe tbody tr th {\n",
       "        vertical-align: top;\n",
       "    }\n",
       "\n",
       "    .dataframe thead th {\n",
       "        text-align: right;\n",
       "    }\n",
       "</style>\n",
       "<table border=\"1\" class=\"dataframe\">\n",
       "  <thead>\n",
       "    <tr style=\"text-align: right;\">\n",
       "      <th></th>\n",
       "      <th>_id</th>\n",
       "      <th>author</th>\n",
       "      <th>birth_country</th>\n",
       "      <th>book_year</th>\n",
       "      <th>current_readers</th>\n",
       "      <th>language</th>\n",
       "      <th>ratings_number</th>\n",
       "      <th>title</th>\n",
       "    </tr>\n",
       "  </thead>\n",
       "  <tbody>\n",
       "    <tr>\n",
       "      <th>50</th>\n",
       "      <td>5c65a28213218a3005218664</td>\n",
       "      <td>Jane Austen</td>\n",
       "      <td>England</td>\n",
       "      <td>1813.0</td>\n",
       "      <td>110672</td>\n",
       "      <td>English</td>\n",
       "      <td>2514478</td>\n",
       "      <td>Pride and Prejudice</td>\n",
       "    </tr>\n",
       "    <tr>\n",
       "      <th>51</th>\n",
       "      <td>5c65a28313218a3005218665</td>\n",
       "      <td>Margaret Atwood</td>\n",
       "      <td>Canada</td>\n",
       "      <td>1985.0</td>\n",
       "      <td>92704</td>\n",
       "      <td>English</td>\n",
       "      <td>1016276</td>\n",
       "      <td>The Handmaid's Tale</td>\n",
       "    </tr>\n",
       "    <tr>\n",
       "      <th>52</th>\n",
       "      <td>5c65a28413218a3005218666</td>\n",
       "      <td>J.K. Rowling</td>\n",
       "      <td>United Kingdom</td>\n",
       "      <td>1997.0</td>\n",
       "      <td>86311</td>\n",
       "      <td>English</td>\n",
       "      <td>5768120</td>\n",
       "      <td>Harry Potter and the Sorcerer's Stone</td>\n",
       "    </tr>\n",
       "    <tr>\n",
       "      <th>53</th>\n",
       "      <td>5c65a28613218a3005218667</td>\n",
       "      <td>George R.R. Martin</td>\n",
       "      <td>United States</td>\n",
       "      <td>1996.0</td>\n",
       "      <td>85480</td>\n",
       "      <td>English</td>\n",
       "      <td>1704347</td>\n",
       "      <td>A Game of Thrones</td>\n",
       "    </tr>\n",
       "    <tr>\n",
       "      <th>54</th>\n",
       "      <td>5c65a28713218a3005218668</td>\n",
       "      <td>George Orwell</td>\n",
       "      <td>India</td>\n",
       "      <td>1949.0</td>\n",
       "      <td>78600</td>\n",
       "      <td>English</td>\n",
       "      <td>2510088</td>\n",
       "      <td>1984</td>\n",
       "    </tr>\n",
       "  </tbody>\n",
       "</table>\n",
       "</div>"
      ],
      "text/plain": [
       "                         _id              author   birth_country  book_year  \\\n",
       "50  5c65a28213218a3005218664         Jane Austen         England     1813.0   \n",
       "51  5c65a28313218a3005218665     Margaret Atwood          Canada     1985.0   \n",
       "52  5c65a28413218a3005218666        J.K. Rowling  United Kingdom     1997.0   \n",
       "53  5c65a28613218a3005218667  George R.R. Martin   United States     1996.0   \n",
       "54  5c65a28713218a3005218668       George Orwell           India     1949.0   \n",
       "\n",
       "    current_readers language  ratings_number  \\\n",
       "50           110672  English         2514478   \n",
       "51            92704  English         1016276   \n",
       "52            86311  English         5768120   \n",
       "53            85480  English         1704347   \n",
       "54            78600  English         2510088   \n",
       "\n",
       "                                    title  \n",
       "50                    Pride and Prejudice  \n",
       "51                    The Handmaid's Tale  \n",
       "52  Harry Potter and the Sorcerer's Stone  \n",
       "53                      A Game of Thrones  \n",
       "54                                   1984  "
      ]
     },
     "execution_count": 14,
     "metadata": {},
     "output_type": "execute_result"
    }
   ],
   "source": [
    "new_data.head()"
   ]
  },
  {
   "cell_type": "code",
   "execution_count": 21,
   "metadata": {},
   "outputs": [],
   "source": [
    "data_split = data[[\"_id\",\"book_year\", \"current_readers\"]]"
   ]
  },
  {
   "cell_type": "code",
   "execution_count": 22,
   "metadata": {},
   "outputs": [],
   "source": [
    "summed_data = data_split.groupby([\"book_year\"]).sum()\n"
   ]
  },
  {
   "cell_type": "code",
   "execution_count": 26,
   "metadata": {},
   "outputs": [
    {
     "data": {
      "text/plain": [
       "<matplotlib.axes._subplots.AxesSubplot at 0x7f50fc0c3438>"
      ]
     },
     "execution_count": 26,
     "metadata": {},
     "output_type": "execute_result"
    },
    {
     "data": {
      "image/png": "[encoded data removed]",
      "text/plain": [
       "<Figure size 432x288 with 1 Axes>"
      ]
     },
     "metadata": {
      "needs_background": "light"
     },
     "output_type": "display_data"
    }
   ],
   "source": [
    "summed_data.plot.bar()"
   ]
  },
  {
   "cell_type": "code",
   "execution_count": null,
   "metadata": {},
   "outputs": [],
   "source": []
  }
 ],
 "metadata": {
  "kernelspec": {
   "display_name": "Python 3",
   "language": "python",
   "name": "python3"
  },
  "language_info": {
   "codemirror_mode": {
    "name": "ipython",
    "version": 3
   },
   "file_extension": ".py",
   "mimetype": "text/x-python",
   "name": "python",
   "nbconvert_exporter": "python",
   "pygments_lexer": "ipython3",
   "version": "3.7.1"
  }
 },
 "nbformat": 4,
 "nbformat_minor": 2
}
