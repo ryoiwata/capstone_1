{
 "cells": [
  {
   "cell_type": "markdown",
   "metadata": {},
   "source": [
    "# Good Reads Capstone "
   ]
  },
  {
   "cell_type": "markdown",
   "metadata": {},
   "source": []
  },
  {
   "cell_type": "markdown",
   "metadata": {},
   "source": [
    "Link: https://www.goodreads.com/shelf/show/currently-reading?page=1"
   ]
  },
  {
   "cell_type": "markdown",
   "metadata": {},
   "source": [
    "Why Good Reads?"
   ]
  },
  {
   "cell_type": "code",
   "execution_count": 1,
   "metadata": {},
   "outputs": [],
   "source": [
    "import requests\n",
    "import re\n",
    "from bs4 import BeautifulSoup\n",
    "from contextlib import closing\n",
    "import json\n",
    "import time"
   ]
  },
  {
   "cell_type": "code",
   "execution_count": 4,
   "metadata": {},
   "outputs": [
    {
     "name": "stdout",
     "output_type": "stream",
     "text": [
      "The Hunger Games\n",
      "<class 'str'>\n",
      "Suzanne Collins\n",
      "<class 'str'>\n",
      "English\n",
      "<class 'str'>\n",
      "United States\n",
      "<class 'str'>\n",
      "42398\n",
      "<class 'int'>\n",
      "5629759\n",
      "<class 'int'>\n"
     ]
    }
   ],
   "source": [
    "book_obj = obj.find('a',class_='bookTitle')\n",
    "book_title = obj.find('a',class_='bookTitle').text\n",
    "data_title = str(book_title).split(\"(\")[0].strip()\n",
    "link_book = \"https://www.goodreads.com\" + book_obj[\"href\"]\n",
    "# print(link_book)\n",
    "# print(data_title)\n",
    "book_read_times = obj.find('a',class_='smallText')\n",
    "data_book_currently_reading = int(book_read_times.text.split()[1])\n",
    "# print(data_book_currently_reading)\n",
    "\n",
    "book_year_ratings = obj.find('span',class_='greyText smallText')\n",
    "book_year_ratings_list = book_year_ratings.text.strip().split(\"\\n\")\n",
    "str_book_ratings = book_year_ratings_list[1].strip().split()[0]\n",
    "data_book_ratings = int(\"\".join(str_book_ratings.split(\",\")))\n",
    "# print(data_book_ratings)\n",
    "data_book_year = book_year_ratings_list[2].strip().split()[1]\n",
    "# print(data_book_year)\n",
    "\n",
    "book_sub_page = requests.get(link_book)\n",
    "book_sub_soup = BeautifulSoup(book_sub_page.text, 'html.parser')\n",
    "try:\n",
    "    data_language = book_sub_soup.find_all(itemprop=\"inLanguage\")[0].text\n",
    "except:\n",
    "    data_language = \"N/A\"\n",
    "# print(data_language)\n",
    "\n",
    "author_names = obj.find('a',class_='authorName')\n",
    "data_author = author_names.text\n",
    "# print(data_author)\n",
    "\n",
    "link_author = author_names[\"href\"]\n",
    "author_sub_page = requests.get(link_author)\n",
    "# print(link_author)\n",
    "author_sub_soup = BeautifulSoup(author_sub_page.text, 'html.parser')\n",
    "author_birth_place = \"\"\n",
    "for char in author_sub_soup.find(\"div\", class_ = \"dataTitle\").next_siblings:\n",
    "    if char.name == \"div\":\n",
    "        break\n",
    "    else:\n",
    "        author_birth_place += str(char)\n",
    "# print(author_birth_place)\n",
    "birth_country_stripped = author_birth_place.strip().split(\",\")[-1]\n",
    "birth_country_stripped_1 = birth_country_stripped.strip()\n",
    "data_birth_country = birth_country_stripped_1.split(\"\\n\")[0].strip()\n",
    "if data_birth_country[0:3] == \"The\":\n",
    "    data_birth_country = data_birth_country[4:].strip()\n",
    "elif data_birth_country[0:6] == \"in The\":\n",
    "    data_birth_country = data_birth_country[7:].strip()\n",
    "elif data_birth_country[0:2] == \"in\":\n",
    "    data_birth_country = data_birth_country[3:].strip()\n",
    "elif data_birth_country == \"\":\n",
    "    data_birth_country = \"N/A\"\n",
    "# print(data_birth_country)\n",
    "\n",
    "\n",
    "\n",
    "print(data_title)\n",
    "print(type(data_title))\n",
    "print(data_author)\n",
    "print(type(data_author))\n",
    "print(data_language)\n",
    "print(type(data_language))\n",
    "print(data_birth_country)\n",
    "print(type(data_birth_country))\n",
    "print(data_book_currently_reading)\n",
    "print(type(data_book_currently_reading))\n",
    "print(data_book_ratings)\n",
    "print(type(data_book_ratings))\n"
   ]
  },
  {
   "cell_type": "markdown",
   "metadata": {},
   "source": [
    "# Why Mongos?"
   ]
  },
  {
   "cell_type": "code",
   "execution_count": 5,
   "metadata": {},
   "outputs": [],
   "source": [
    "import pymongo\n",
    "import pandas as pd\n",
    "from pymongo import MongoClient\n",
    "client = MongoClient()\n",
    "db = client.capstone_1_db\n",
    "collection = db.good_reads_collections\n",
    "data = pd.DataFrame(list(collection.find()))"
   ]
  },
  {
   "cell_type": "code",
   "execution_count": 7,
   "metadata": {},
   "outputs": [
    {
     "data": {
      "text/html": [
       "<div>\n",
       "<style scoped>\n",
       "    .dataframe tbody tr th:only-of-type {\n",
       "        vertical-align: middle;\n",
       "    }\n",
       "\n",
       "    .dataframe tbody tr th {\n",
       "        vertical-align: top;\n",
       "    }\n",
       "\n",
       "    .dataframe thead th {\n",
       "        text-align: right;\n",
       "    }\n",
       "</style>\n",
       "<table border=\"1\" class=\"dataframe\">\n",
       "  <thead>\n",
       "    <tr style=\"text-align: right;\">\n",
       "      <th></th>\n",
       "      <th>_id</th>\n",
       "      <th>author</th>\n",
       "      <th>birth_country</th>\n",
       "      <th>current_readers</th>\n",
       "      <th>language</th>\n",
       "      <th>ratings_number</th>\n",
       "      <th>title</th>\n",
       "    </tr>\n",
       "  </thead>\n",
       "  <tbody>\n",
       "    <tr>\n",
       "      <th>0</th>\n",
       "      <td>5c64589c13218a20ad311a4e</td>\n",
       "      <td>Jane Austen</td>\n",
       "      <td>England</td>\n",
       "      <td>110625</td>\n",
       "      <td>English</td>\n",
       "      <td>2513940</td>\n",
       "      <td>Pride and Prejudice</td>\n",
       "    </tr>\n",
       "    <tr>\n",
       "      <th>1</th>\n",
       "      <td>5c64589d13218a20ad311a4f</td>\n",
       "      <td>Margaret Atwood</td>\n",
       "      <td>Canada</td>\n",
       "      <td>92600</td>\n",
       "      <td>English</td>\n",
       "      <td>1015611</td>\n",
       "      <td>The Handmaid's Tale</td>\n",
       "    </tr>\n",
       "    <tr>\n",
       "      <th>2</th>\n",
       "      <td>5c64589e13218a20ad311a50</td>\n",
       "      <td>J.K. Rowling</td>\n",
       "      <td>United Kingdom</td>\n",
       "      <td>86256</td>\n",
       "      <td>English</td>\n",
       "      <td>5766110</td>\n",
       "      <td>Harry Potter and the Sorcerer's Stone</td>\n",
       "    </tr>\n",
       "    <tr>\n",
       "      <th>3</th>\n",
       "      <td>5c64589f13218a20ad311a51</td>\n",
       "      <td>George R.R. Martin</td>\n",
       "      <td>United States</td>\n",
       "      <td>85450</td>\n",
       "      <td>English</td>\n",
       "      <td>1703982</td>\n",
       "      <td>A Game of Thrones</td>\n",
       "    </tr>\n",
       "    <tr>\n",
       "      <th>4</th>\n",
       "      <td>5c6458a013218a20ad311a52</td>\n",
       "      <td>George Orwell</td>\n",
       "      <td>India</td>\n",
       "      <td>78516</td>\n",
       "      <td>English</td>\n",
       "      <td>2509232</td>\n",
       "      <td>1984</td>\n",
       "    </tr>\n",
       "  </tbody>\n",
       "</table>\n",
       "</div>"
      ],
      "text/plain": [
       "                        _id              author   birth_country  \\\n",
       "0  5c64589c13218a20ad311a4e         Jane Austen         England   \n",
       "1  5c64589d13218a20ad311a4f     Margaret Atwood          Canada   \n",
       "2  5c64589e13218a20ad311a50        J.K. Rowling  United Kingdom   \n",
       "3  5c64589f13218a20ad311a51  George R.R. Martin   United States   \n",
       "4  5c6458a013218a20ad311a52       George Orwell           India   \n",
       "\n",
       "   current_readers language  ratings_number  \\\n",
       "0           110625  English         2513940   \n",
       "1            92600  English         1015611   \n",
       "2            86256  English         5766110   \n",
       "3            85450  English         1703982   \n",
       "4            78516  English         2509232   \n",
       "\n",
       "                                   title  \n",
       "0                    Pride and Prejudice  \n",
       "1                    The Handmaid's Tale  \n",
       "2  Harry Potter and the Sorcerer's Stone  \n",
       "3                      A Game of Thrones  \n",
       "4                                   1984  "
      ]
     },
     "execution_count": 7,
     "metadata": {},
     "output_type": "execute_result"
    }
   ],
   "source": [
    "data.head()"
   ]
  },
  {
   "cell_type": "code",
   "execution_count": 8,
   "metadata": {},
   "outputs": [
    {
     "name": "stdout",
     "output_type": "stream",
     "text": [
      "<class 'pandas.core.frame.DataFrame'>\n",
      "RangeIndex: 50 entries, 0 to 49\n",
      "Data columns (total 7 columns):\n",
      "_id                50 non-null object\n",
      "author             50 non-null object\n",
      "birth_country      50 non-null object\n",
      "current_readers    50 non-null int64\n",
      "language           50 non-null object\n",
      "ratings_number     50 non-null int64\n",
      "title              50 non-null object\n",
      "dtypes: int64(2), object(5)\n",
      "memory usage: 2.8+ KB\n"
     ]
    }
   ],
   "source": []
  },
  {
   "cell_type": "code",
   "execution_count": null,
   "metadata": {},
   "outputs": [],
   "source": []
  }
 ],
 "metadata": {
  "kernelspec": {
   "display_name": "Python 3",
   "language": "python",
   "name": "python3"
  },
  "language_info": {
   "codemirror_mode": {
    "name": "ipython",
    "version": 3
   },
   "file_extension": ".py",
   "mimetype": "text/x-python",
   "name": "python",
   "nbconvert_exporter": "python",
   "pygments_lexer": "ipython3",
   "version": "3.7.1"
  }
 },
 "nbformat": 4,
 "nbformat_minor": 2
}
