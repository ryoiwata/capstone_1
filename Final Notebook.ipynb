{
 "cells": [
  {
   "cell_type": "markdown",
   "metadata": {},
   "source": [
    "# Good Reads Capstone "
   ]
  },
  {
   "cell_type": "markdown",
   "metadata": {},
   "source": [
    "# TBE: insert Big Picture of a Book"
   ]
  },
  {
   "cell_type": "markdown",
   "metadata": {},
   "source": [
    "# Part 1: Webscraping"
   ]
  },
  {
   "cell_type": "markdown",
   "metadata": {},
   "source": [
    "Link: https://www.goodreads.com/shelf/show/currently-reading?page=1"
   ]
  },
  {
   "cell_type": "markdown",
   "metadata": {},
   "source": [
    "TBE: Insert a screen cap of Good Reads with what I scraped"
   ]
  },
  {
   "cell_type": "code",
   "execution_count": 1,
   "metadata": {},
   "outputs": [],
   "source": [
    "#Python Libraries for WebScraping\n",
    "import requests\n",
    "from bs4 import BeautifulSoup"
   ]
  },
  {
   "cell_type": "code",
   "execution_count": 2,
   "metadata": {},
   "outputs": [],
   "source": [
    "gr_webpage = requests.get('https://www.goodreads.com/shelf/show/currently-reading?page=1')\n",
    "soup = BeautifulSoup(gr_webpage.text, 'html.parser')"
   ]
  },
  {
   "cell_type": "code",
   "execution_count": 3,
   "metadata": {},
   "outputs": [
    {
     "name": "stdout",
     "output_type": "stream",
     "text": [
      "Beneath a Scarlet Sky\n"
     ]
    }
   ],
   "source": [
    "x = 20 #Set as any number 1~50\n",
    "book_obj = soup.findAll('a',class_='bookTitle')[x].text\n",
    "data_title = str(book_obj).split(\"(\")[0].strip()\n",
    "print(data_title)"
   ]
  },
  {
   "cell_type": "markdown",
   "metadata": {},
   "source": [
    "# Part 2: Database Storage"
   ]
  },
  {
   "cell_type": "code",
   "execution_count": 4,
   "metadata": {},
   "outputs": [],
   "source": [
    "#Python Libraries for Mongos Database\n",
    "import pymongo\n",
    "from pymongo import MongoClient\n",
    "import pandas as pd\n"
   ]
  },
  {
   "cell_type": "code",
   "execution_count": 5,
   "metadata": {},
   "outputs": [],
   "source": [
    "client = MongoClient()\n",
    "database = client['demonstration']   # Database name (to connect to)\n",
    "collections = database['gr_demo'] \n",
    "try:\n",
    "    collections.delete_many({})\n",
    "except:\n",
    "    pass\n",
    "collections = database['gr_demo'] # Collection name (to use)"
   ]
  },
  {
   "cell_type": "code",
   "execution_count": 6,
   "metadata": {},
   "outputs": [],
   "source": [
    "for obj in soup.findAll('div',class_='left')[:5]: #indexed for demonsration\n",
    "    book_obj = obj.find('a',class_='bookTitle')\n",
    "    book_title = obj.find('a',class_='bookTitle').text\n",
    "    data_title = str(book_title).split(\"(\")[0].strip() \n",
    "    link_book = \"https://www.goodreads.com\" + book_obj[\"href\"]\n",
    "    \n",
    "    book_read_times = obj.find('a',class_='smallText')\n",
    "    data_book_currently_reading = int(book_read_times.text.split()[1])\n",
    "\n",
    "    book_year_ratings = obj.find('span',class_='greyText smallText')\n",
    "    book_year_ratings_list = book_year_ratings.text.strip().split(\"\\n\")\n",
    "    data_book_year = book_year_ratings_list[2].strip().split()[1]\n",
    "\n",
    "    author_names = obj.find('a',class_='authorName')\n",
    "    data_author = author_names.text\n",
    "\n",
    "    link_author = author_names[\"href\"]\n",
    "    author_sub_page = requests.get(link_author)\n",
    "    author_sub_soup = BeautifulSoup(author_sub_page.text, 'html.parser')\n",
    "    author_birth_place = \"\"\n",
    "    for char in author_sub_soup.find(\"div\", class_ = \"dataTitle\").next_siblings:\n",
    "        if char.name == \"div\":\n",
    "            break\n",
    "        else:\n",
    "            author_birth_place += str(char)\n",
    "            \n",
    "    birth_country_stripped = author_birth_place.strip().split(\",\")[-1]\n",
    "    birth_country_stripped_1 = birth_country_stripped.strip()\n",
    "    data_birth_country = birth_country_stripped_1.split(\"\\n\")[0].strip()\n",
    "    if data_birth_country[0:3] == \"The\":\n",
    "        data_birth_country = data_birth_country[4:].strip()\n",
    "    elif data_birth_country[0:6] == \"in The\":\n",
    "        data_birth_country = data_birth_country[7:].strip()\n",
    "    elif data_birth_country[0:2] == \"in\":\n",
    "        data_birth_country = data_birth_country[3:].strip()\n",
    "    elif data_birth_country == \"\":\n",
    "        data_birth_country = \"N/A\"\n",
    "    \n",
    "    collections.insert_one({\"title\" : data_title, \"author\" : data_author, \"birth_country\" : data_birth_country, \"current_readers\" : data_book_currently_reading, \"book_year\": data_book_year})\n"
   ]
  },
  {
   "cell_type": "code",
   "execution_count": 7,
   "metadata": {},
   "outputs": [
    {
     "data": {
      "text/html": [
       "<div>\n",
       "<style scoped>\n",
       "    .dataframe tbody tr th:only-of-type {\n",
       "        vertical-align: middle;\n",
       "    }\n",
       "\n",
       "    .dataframe tbody tr th {\n",
       "        vertical-align: top;\n",
       "    }\n",
       "\n",
       "    .dataframe thead th {\n",
       "        text-align: right;\n",
       "    }\n",
       "</style>\n",
       "<table border=\"1\" class=\"dataframe\">\n",
       "  <thead>\n",
       "    <tr style=\"text-align: right;\">\n",
       "      <th></th>\n",
       "      <th>_id</th>\n",
       "      <th>author</th>\n",
       "      <th>birth_country</th>\n",
       "      <th>book_year</th>\n",
       "      <th>current_readers</th>\n",
       "      <th>title</th>\n",
       "    </tr>\n",
       "  </thead>\n",
       "  <tbody>\n",
       "    <tr>\n",
       "      <th>0</th>\n",
       "      <td>5c65d28813218a68bed57a3e</td>\n",
       "      <td>Jane Austen</td>\n",
       "      <td>England</td>\n",
       "      <td>1813</td>\n",
       "      <td>110672</td>\n",
       "      <td>Pride and Prejudice</td>\n",
       "    </tr>\n",
       "    <tr>\n",
       "      <th>1</th>\n",
       "      <td>5c65d28913218a68bed57a3f</td>\n",
       "      <td>Margaret Atwood</td>\n",
       "      <td>Canada</td>\n",
       "      <td>1985</td>\n",
       "      <td>92704</td>\n",
       "      <td>The Handmaid's Tale</td>\n",
       "    </tr>\n",
       "    <tr>\n",
       "      <th>2</th>\n",
       "      <td>5c65d28913218a68bed57a40</td>\n",
       "      <td>J.K. Rowling</td>\n",
       "      <td>United Kingdom</td>\n",
       "      <td>1997</td>\n",
       "      <td>86311</td>\n",
       "      <td>Harry Potter and the Sorcerer's Stone</td>\n",
       "    </tr>\n",
       "    <tr>\n",
       "      <th>3</th>\n",
       "      <td>5c65d28a13218a68bed57a41</td>\n",
       "      <td>George R.R. Martin</td>\n",
       "      <td>United States</td>\n",
       "      <td>1996</td>\n",
       "      <td>85480</td>\n",
       "      <td>A Game of Thrones</td>\n",
       "    </tr>\n",
       "    <tr>\n",
       "      <th>4</th>\n",
       "      <td>5c65d28a13218a68bed57a42</td>\n",
       "      <td>George Orwell</td>\n",
       "      <td>India</td>\n",
       "      <td>1949</td>\n",
       "      <td>78600</td>\n",
       "      <td>1984</td>\n",
       "    </tr>\n",
       "  </tbody>\n",
       "</table>\n",
       "</div>"
      ],
      "text/plain": [
       "                        _id              author   birth_country book_year  \\\n",
       "0  5c65d28813218a68bed57a3e         Jane Austen         England      1813   \n",
       "1  5c65d28913218a68bed57a3f     Margaret Atwood          Canada      1985   \n",
       "2  5c65d28913218a68bed57a40        J.K. Rowling  United Kingdom      1997   \n",
       "3  5c65d28a13218a68bed57a41  George R.R. Martin   United States      1996   \n",
       "4  5c65d28a13218a68bed57a42       George Orwell           India      1949   \n",
       "\n",
       "   current_readers                                  title  \n",
       "0           110672                    Pride and Prejudice  \n",
       "1            92704                    The Handmaid's Tale  \n",
       "2            86311  Harry Potter and the Sorcerer's Stone  \n",
       "3            85480                      A Game of Thrones  \n",
       "4            78600                                   1984  "
      ]
     },
     "execution_count": 7,
     "metadata": {},
     "output_type": "execute_result"
    }
   ],
   "source": [
    "demo_data = pd.DataFrame(list(collections.find()))\n",
    "demo_data"
   ]
  },
  {
   "cell_type": "markdown",
   "metadata": {},
   "source": [
    "# Part 3: Exploratory Data Analysis"
   ]
  },
  {
   "cell_type": "code",
   "execution_count": 8,
   "metadata": {},
   "outputs": [],
   "source": [
    "#Python Libraries for data analysis\n",
    "import numpy as np\n",
    "import matplotlib.pyplot as plt"
   ]
  },
  {
   "cell_type": "code",
   "execution_count": null,
   "metadata": {},
   "outputs": [],
   "source": []
  }
 ],
 "metadata": {
  "kernelspec": {
   "display_name": "Python 3",
   "language": "python",
   "name": "python3"
  },
  "language_info": {
   "codemirror_mode": {
    "name": "ipython",
    "version": 3
   },
   "file_extension": ".py",
   "mimetype": "text/x-python",
   "name": "python",
   "nbconvert_exporter": "python",
   "pygments_lexer": "ipython3",
   "version": "3.7.1"
  }
 },
 "nbformat": 4,
 "nbformat_minor": 2
}
